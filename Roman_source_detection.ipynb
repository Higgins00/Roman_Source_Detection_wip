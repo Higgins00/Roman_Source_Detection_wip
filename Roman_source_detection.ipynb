{
 "cells": [
  {
   "cell_type": "code",
   "execution_count": 1,
   "metadata": {},
   "outputs": [],
   "source": [
    "import numpy as np\n",
    "import matplotlib.pyplot as plt\n",
    "from photutils.detection import IRAFStarFinder\n",
    "from photutils.psf import IntegratedGaussianPRF, DAOGroup, prepare_psf_model, FittableImageModel\n",
    "from photutils.background import MMMBackground, MADStdBackgroundRMS\n",
    "from photutils.psf import IterativelySubtractedPSFPhotometry, DAOPhotPSFPhotometry\n",
    "from astropy.modeling.fitting import LevMarLSQFitter\n",
    "from astropy.stats import gaussian_sigma_to_fwhm\n",
    "from astropy.io import fits\n",
    "from astropy.visualization import simple_norm\n",
    "import galsim.roman\n",
    "import galsim as gs\n",
    "import scipy as sp\n",
    "import scipy.optimize as opt\n",
    "from astropy.wcs import WCS\n",
    "from astropy import units as u\n",
    "from astropy.coordinates import SkyCoord\n",
    "from astropy.table import Table\n",
    "import pandas as pd"
   ]
  },
  {
   "cell_type": "markdown",
   "metadata": {},
   "source": [
    "# DC2 Data"
   ]
  },
  {
   "cell_type": "code",
   "execution_count": 2,
   "metadata": {},
   "outputs": [
    {
     "name": "stdout",
     "output_type": "stream",
     "text": [
      "Filename: dc2_test_index_star.fits\n",
      "No.    Name      Ver    Type      Cards   Dimensions   Format\n",
      "  0  PRIMARY       1 PrimaryHDU       6   ()      \n",
      "  1                1 BinTableHDU     44   51771R x 18C   [K, K, K, D, D, D, D, D, K, K, K, K, K, D, D, D, D, K]   \n"
     ]
    }
   ],
   "source": [
    "#star truths\n",
    "fits_image_filename = 'dc2_test_index_star.fits'\n",
    "hdul = fits.open(fits_image_filename)\n",
    "hdul.info()"
   ]
  },
  {
   "cell_type": "code",
   "execution_count": 3,
   "metadata": {},
   "outputs": [
    {
     "name": "stdout",
     "output_type": "stream",
     "text": [
      "Filename: dc2_test_index.fits\n",
      "No.    Name      Ver    Type      Cards   Dimensions   Format\n",
      "  0  PRIMARY       1 PrimaryHDU       6   ()      \n",
      "  1                1 BinTableHDU     44   8840004R x 18C   [K, K, K, D, D, D, D, D, K, K, K, K, K, D, D, D, D, K]   \n"
     ]
    }
   ],
   "source": [
    "#galaxy truths\n",
    "fits_image_filename = 'dc2_test_index.fits'\n",
    "hdul2 = fits.open(fits_image_filename)\n",
    "hdul2.info()"
   ]
  },
  {
   "cell_type": "code",
   "execution_count": 4,
   "metadata": {},
   "outputs": [],
   "source": [
    "dat = Table.read('dc2_test_index_star.fits', format='fits')\n",
    "stars = dat.to_pandas()"
   ]
  },
  {
   "cell_type": "code",
   "execution_count": 5,
   "metadata": {},
   "outputs": [],
   "source": [
    "dat = Table.read('dc2_test_index.fits', format='fits')\n",
    "gals = dat.to_pandas()"
   ]
  },
  {
   "cell_type": "code",
   "execution_count": 6,
   "metadata": {},
   "outputs": [],
   "source": [
    "stars = stars.drop_duplicates(subset=['ind'])"
   ]
  },
  {
   "cell_type": "code",
   "execution_count": 7,
   "metadata": {},
   "outputs": [],
   "source": [
    "gals =  gals.drop_duplicates(subset=['ind'])"
   ]
  },
  {
   "cell_type": "code",
   "execution_count": 8,
   "metadata": {},
   "outputs": [],
   "source": [
    "#define star ra and dec cuts \n",
    "dd = 0.453258*8825*.0575/60/60/2\n",
    "ddd = 0.453258*8825*.0745/60/60/2 #possible typo in code\n",
    "dtr = np.pi/180\n",
    "mask1 =np.where((stars['ra']>= (55.55882977-ddd)*dtr)&(stars['ra']<= (55.55882977+ddd)*dtr)&(stars['dec']>= (-39.98296726-dd)*dtr)&(stars['dec']<= (-39.98296726+dd)*dtr))"
   ]
  },
  {
   "cell_type": "code",
   "execution_count": 9,
   "metadata": {},
   "outputs": [],
   "source": [
    "#define galaxy ra and dec cuts for the 4000x4000 space\n",
    "dd = 0.453258*8825*.0575/60/60/2\n",
    "ddd = 0.453258*8825*.0745/60/60/2 #possible typo in code\n",
    "dtr = np.pi/180\n",
    "mask2 =np.where((gals['ra']>= (55.55882977-ddd)*dtr)&(gals['ra']<= (55.55882977+ddd)*dtr)&(gals['dec']>= (-39.98296726-dd)*dtr)&(gals['dec']<= (-39.98296726+dd)*dtr))#&(gals['mag']>17.5)&(gals['mag']<19)"
   ]
  },
  {
   "cell_type": "code",
   "execution_count": 10,
   "metadata": {},
   "outputs": [
    {
     "name": "stdout",
     "output_type": "stream",
     "text": [
      "Filename: dc2_test_H158_55.51_-39.9.fits\n",
      "No.    Name      Ver    Type      Cards   Dimensions   Format\n",
      "  0  PRIMARY       1 PrimaryHDU     908   ()      \n",
      "  1  SCI           1 ImageHDU        63   (8825, 8825)   float32   \n",
      "  2  WHT           1 ImageHDU        64   (8825, 8825)   float32   \n",
      "  3  CTX           1 ImageHDU        63   (8825, 8825)   int32   \n",
      "  4  HDRTAB        1 BinTableHDU    559   21R x 275C   [8A, 3A, K, D, D, D, D, D, D, D, D, D, D, D, D, K, D, D, D, D, D, D, D, D, D, D, D, D, D, D, D, D, D, D, D, D, D, D, K, D, D, D, D, D, D, D, D, D, D, D, 11A, D, 4A, D, D, K, K, D, D, D, D, D, D, D, D, D, D, D, D, D, D, D, D, D, D, D, D, D, D, D, D, D, D, 12A, 12A, D, D, D, D, D, D, D, D, D, 2A, D, D, D, D, D, D, D, D, D, 12A, D, D, D, D, D, D, D, D, D, D, D, D, D, D, D, D, D, D, D, D, D, D, D, D, D, D, D, 4A, D, D, 4A, D, D, D, D, D, D, D, D, D, D, D, D, K, K, D, K, D, D, D, D, D, D, D, D, D, D, D, D, D, D, D, D, D, D, D, D, D, D, D, D, D, D, D, D, D, D, D, D, D, D, D, D, D, D, D, D, D, D, D, D, D, D, D, D, D, D, 23A, D, D, D, D, D, D, D, D, D, D, D, D, D, D, D, D, 7A, D, D, D, D, D, D, D, D, D, D, D, D, D, D, D, D, D, D, D, D, D, D, D, D, D, D, D, D, L, D, D, D, D, D, D, D, D, D, D, D, D, D, D, D, 3A, D, 5A, D, D, D, K, D, 16A, D, D]   \n"
     ]
    }
   ],
   "source": [
    "#Image used\n",
    "fits_image_filename = 'dc2_test_H158_55.51_-39.9.fits'\n",
    "dul = fits.open(fits_image_filename)\n",
    "dul.info()"
   ]
  },
  {
   "cell_type": "code",
   "execution_count": 11,
   "metadata": {},
   "outputs": [],
   "source": [
    "#convert wc to pixel coordinates\n",
    "wcs = WCS(header=dul[2].header)"
   ]
  },
  {
   "cell_type": "code",
   "execution_count": 12,
   "metadata": {},
   "outputs": [],
   "source": [
    "scs = SkyCoord(ra=stars['ra'].values[mask1]*u.radian, dec=stars['dec'].values[mask1]*u.radian)"
   ]
  },
  {
   "cell_type": "code",
   "execution_count": 13,
   "metadata": {},
   "outputs": [],
   "source": [
    "#star pixels\n",
    "xs,ys = wcs.world_to_pixel(scs)"
   ]
  },
  {
   "cell_type": "code",
   "execution_count": 14,
   "metadata": {},
   "outputs": [],
   "source": [
    "scg = SkyCoord(ra=gals['ra'].values[mask2]*u.radian, dec=gals['dec'].values[mask2]*u.radian)"
   ]
  },
  {
   "cell_type": "code",
   "execution_count": 15,
   "metadata": {},
   "outputs": [],
   "source": [
    "#galaxy pixels\n",
    "xg,yg = wcs.world_to_pixel(scg)"
   ]
  },
  {
   "cell_type": "markdown",
   "metadata": {},
   "source": [
    "# Generate PSF Model"
   ]
  },
  {
   "cell_type": "code",
   "execution_count": 16,
   "metadata": {},
   "outputs": [],
   "source": [
    "romanpsf = gs.roman.getPSF(SCA=5,bandpass = 'H158',pupil_bin=4,n_waves=4)"
   ]
  },
  {
   "cell_type": "code",
   "execution_count": 17,
   "metadata": {},
   "outputs": [],
   "source": [
    "newsed = galsim.SED(lambda x:1, 'nm','flambda').withFlux(1.,galsim.roman.getBandpasses()['H158'])\n",
    "delta = galsim.DeltaFunction(flux=1.) *newsed\n",
    "st_model = galsim.Convolve(delta , romanpsf)\n",
    "b_psf2 = galsim.BoundsI( xmin=1,\n",
    "                                    ymin=1,\n",
    "                                    xmax=32,\n",
    "                                    ymax=32)\n",
    "psf_stamp2 = galsim.Image(b_psf2, scale=0.011)\n",
    "im =st_model.drawImage(image=psf_stamp2,method='no_pixel',bandpass=galsim.roman.getBandpasses()['H158'])"
   ]
  },
  {
   "cell_type": "code",
   "execution_count": 18,
   "metadata": {},
   "outputs": [],
   "source": [
    "psf_im = im.array\n",
    "final_psf = FittableImageModel(psf_im)"
   ]
  },
  {
   "cell_type": "code",
   "execution_count": 19,
   "metadata": {},
   "outputs": [
    {
     "data": {
      "text/plain": [
       "<matplotlib.image.AxesImage at 0x7ff8b4730d68>"
      ]
     },
     "execution_count": 19,
     "metadata": {},
     "output_type": "execute_result"
    },
    {
     "data": {
      "image/png": "[encoded data removed]",
      "text/plain": [
       "<Figure size 432x288 with 1 Axes>"
      ]
     },
     "metadata": {
      "needs_background": "light"
     },
     "output_type": "display_data"
    }
   ],
   "source": [
    "plt.imshow(psf_im,origin='lower')"
   ]
  },
  {
   "cell_type": "code",
   "execution_count": 20,
   "metadata": {},
   "outputs": [
    {
     "data": {
      "text/plain": [
       "(12.228007710101181, 12.035690887141126)"
      ]
     },
     "execution_count": 20,
     "metadata": {},
     "output_type": "execute_result"
    }
   ],
   "source": [
    "def twoD_GaussianScaledAmp(data, xo, yo, sigma_x, sigma_y, amplitude, offset):\n",
    "    (x,y)=data\n",
    "    xo = float(xo)\n",
    "    yo = float(yo)    \n",
    "    g = offset + amplitude*np.exp( - (((x-xo)**2)/(2*sigma_x**2) + ((y-yo)**2)/(2*sigma_y**2)))\n",
    "    return g.ravel()\n",
    "\n",
    "def getFWHM_GaussianFitScaledAmp(img):\n",
    "\n",
    "    x = np.linspace(0, img.shape[1], img.shape[1])\n",
    "    y = np.linspace(0, img.shape[0], img.shape[0])\n",
    "    x, y = np.meshgrid(x, y)\n",
    "    #Parameters: xpos, ypos, sigmaX, sigmaY, amp, baseline\n",
    "    initial_guess = (img.shape[1]/2,img.shape[0]/2,10,10,1,0)\n",
    "    # subtract background and rescale image into [0,1], with floor clipping\n",
    "    bg = np.percentile(img,5)\n",
    "    img_scaled = np.clip((img - bg) / (img.max() - bg),0,1)\n",
    "    popt, pcov = opt.curve_fit(twoD_GaussianScaledAmp, (x, y), \n",
    "                               img_scaled.ravel(), p0=initial_guess,\n",
    "                               bounds = ((img.shape[1]*0.4, img.shape[0]*0.4, 1, 1, 0.5, -0.1),\n",
    "                                     (img.shape[1]*0.6, img.shape[0]*0.6, img.shape[1]/2, img.shape[0]/2, 1.5, 0.5)))\n",
    "    xcenter, ycenter, sigmaX, sigmaY, amp, offset = popt[0], popt[1], popt[2], popt[3], popt[4], popt[5]\n",
    "    FWHM_x = np.abs(4*sigmaX*np.sqrt(-0.5*np.log(0.5)))\n",
    "    FWHM_y = np.abs(4*sigmaY*np.sqrt(-0.5*np.log(0.5)))\n",
    "    return (FWHM_x, FWHM_y)\n",
    "\n",
    "#calling example: img is your image\n",
    "(FWHM_x, FWHM_y) = getFWHM_GaussianFitScaledAmp(psf_im)\n",
    "(FWHM_x, FWHM_y)"
   ]
  },
  {
   "cell_type": "markdown",
   "metadata": {},
   "source": [
    "# Perform Photmetry"
   ]
  },
  {
   "cell_type": "code",
   "execution_count": null,
   "metadata": {},
   "outputs": [],
   "source": [
    "bkgrms = MADStdBackgroundRMS()\n",
    "std = bkgrms(image[0:4000,0:4000])\n",
    "fitter = LevMarLSQFitter()\n",
    "photometry = DAOPhotPSFPhotometry(crit_separation = 2*int(FWHM_x), threshold= 10*std, fwhm= int(FWHM_x), \n",
    "                                  psf_model= final_psf, fitshape=3*int(FWHM_x), sharplo=0.2,\n",
    "                                  sharphi=3, roundlo=-1, roundhi=1,\n",
    "                                  fitter=fitter, aperture_radius = int(FWHM_x), niters=1)\n",
    "result_tab = photometry(image=image[0:4000,0:4000])"
   ]
  },
  {
   "cell_type": "code",
   "execution_count": 9,
   "metadata": {},
   "outputs": [
    {
     "data": {
      "text/plain": [
       "12"
      ]
     },
     "execution_count": 9,
     "metadata": {},
     "output_type": "execute_result"
    }
   ],
   "source": [
    "zz=4000\n",
    "norm = simple_norm(image, 'log', percent=99.99)\n",
    "plt.figure(figsize=(10,10))\n",
    "plt.xlim(0,zz)\n",
    "plt.ylim(0,zz)\n",
    "plt.imshow(image[0:zz,0:zz],norm=norm,origin='lower',cmap='Greys_r',vmin=0 ,vmax =1000)\n",
    "plt.scatter(xg,yg,s=8,c='r')\n",
    "plt.scatter(result_tab['x_fit'],result_tab['y_fit'],s=5,c='b')"
   ]
  },
  {
   "cell_type": "markdown",
   "metadata": {},
   "source": [
    "# Analysis"
   ]
  },
  {
   "cell_type": "code",
   "execution_count": null,
   "metadata": {},
   "outputs": [],
   "source": [
    "truth = gals['ind'].values[mask2]\n",
    "fitting = []\n",
    "fitmask = []\n",
    "fail = truth\n",
    "\n",
    "\n",
    "count=0\n",
    "for i in np.arange(0,len(result_tab)):\n",
    "    x = result_tab['x_fit'][i]\n",
    "    y = result_tab['y_fit'][i]\n",
    "    d = np.sqrt((xg-x)**2 + (yg-y)**2)\n",
    "    if d.min()>10:\n",
    "        count+=1\n",
    "    else:\n",
    "        fitting.extend(gals['mag'].values[mask2][np.where(d==d.min())])\n",
    "        fitmask.extend(np.where(d==d.min()))\n",
    "        \n",
    "        \n",
    "fail = np.delete(truth,fitmask) "
   ]
  },
  {
   "cell_type": "code",
   "execution_count": null,
   "metadata": {},
   "outputs": [],
   "source": [
    "ratio = np.histogram(np.unique(fitting),bins = np.arange(15.5,30.5,.5))[0]/np.histogram(gals['mag'].values[mask2],bins = np.arange(15.5,30.5,.5))[0]"
   ]
  },
  {
   "cell_type": "code",
   "execution_count": null,
   "metadata": {},
   "outputs": [],
   "source": [
    "plt.scatter(np.arange(15.5,30,.5),rat)"
   ]
  }
 ],
 "metadata": {
  "kernelspec": {
   "display_name": "Python 3",
   "language": "python",
   "name": "python3"
  },
  "language_info": {
   "codemirror_mode": {
    "name": "ipython",
    "version": 3
   },
   "file_extension": ".py",
   "mimetype": "text/x-python",
   "name": "python",
   "nbconvert_exporter": "python",
   "pygments_lexer": "ipython3",
   "version": "3.6.9"
  }
 },
 "nbformat": 4,
 "nbformat_minor": 2
}
